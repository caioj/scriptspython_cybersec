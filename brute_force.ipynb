{
  "nbformat": 4,
  "nbformat_minor": 0,
  "metadata": {
    "colab": {
      "provenance": [],
      "authorship_tag": "ABX9TyPwFvATy2QSSg9z0JTKrLQk",
      "include_colab_link": true
    },
    "kernelspec": {
      "name": "python3",
      "display_name": "Python 3"
    },
    "language_info": {
      "name": "python"
    }
  },
  "cells": [
    {
      "cell_type": "markdown",
      "metadata": {
        "id": "view-in-github",
        "colab_type": "text"
      },
      "source": [
        "<a href=\"https://colab.research.google.com/github/caioj/scriptspython_cybersec/blob/main/brute_force.ipynb\" target=\"_parent\"><img src=\"https://colab.research.google.com/assets/colab-badge.svg\" alt=\"Open In Colab\"/></a>"
      ]
    },
    {
      "cell_type": "markdown",
      "source": [
        "Esse código em Python realiza a geração de todas as combinações possíveis de caracteres alfanuméricos e de pontuação e as escreve em um arquivo chamado \"password.txt\". Aqui está uma explicação passo a passo do código:\n",
        "\n",
        "`from string import *:` Isso importa todas as constantes de caracteres definidas no módulo string, incluindo ascii_letters (letras maiúsculas e minúsculas), digits (dígitos numéricos) e punctuation (caracteres de pontuação).\n",
        "\n",
        "`from itertools import product:` Isso importa a função product do módulo itertools. A função product gera todas as combinações possíveis de elementos de sequências.\n",
        "\n",
        "`value = ascii_letters + digits + punctuation`: Isso cria uma sequência chamada value que contém todos os caracteres alfanuméricos e de pontuação.\n",
        "\n",
        "`for i in range(1,4):`: Isso inicia um loop externo que irá percorrer de 1 até 3 (inclusive) caracteres em uma senha.\n",
        "\n",
        "`for j in product(value, repeat=i):`: Isso inicia um loop interno que utiliza a função product para gerar todas as combinações possíveis de i caracteres da sequência value.\n",
        "\n",
        "`word = \"\".join(j)`: Isso cria uma string chamada word juntando os caracteres gerados na combinação atual.\n",
        "\n",
        "`p = open(\"password.txt\", \"a\")`: Isso abre o arquivo \"password.txt\" em modo de anexação (\"a\"), permitindo que novos conteúdos sejam adicionados sem substituir o conteúdo existente.\n",
        "\n",
        "`p.write(word)`: Isso escreve a string word, ou seja, a combinação de caracteres, no arquivo.\n",
        "\n",
        "`p.write(\"\\n\")`: Isso escreve uma quebra de linha no arquivo após cada combinação de caracteres, garantindo que cada combinação seja escrita em uma nova linha.\n",
        "\n",
        "O resultado final é que todas as combinações possíveis de caracteres alfanuméricos e de pontuação, com comprimentos variando de 1 a 3 caracteres, são geradas e escritas no arquivo \"password.txt\". Esse código é um exemplo de um ataque de força bruta, que tenta exaustivamente todas as combinações possíveis em busca de senhas ou chaves.\n",
        "\n",
        "*Você pode melhorar aumentando o comprimento, não fiz isso pois deixaria muito pesado o arquivo e iria demorar um pouco, você pode otimizar o código, fique a vontade.*"
      ],
      "metadata": {
        "id": "A4diLv5WcvNq"
      }
    },
    {
      "cell_type": "code",
      "execution_count": 3,
      "metadata": {
        "id": "4sG-Gb00aShh"
      },
      "outputs": [],
      "source": [
        "from string import *\n",
        "from itertools import product"
      ]
    },
    {
      "cell_type": "code",
      "source": [
        "value = ascii_letters + digits + punctuation\n",
        "value"
      ],
      "metadata": {
        "colab": {
          "base_uri": "https://localhost:8080/",
          "height": 36
        },
        "id": "asVYrkwKaaKE",
        "outputId": "c17f79d5-a49c-494d-962c-374d36859259"
      },
      "execution_count": 2,
      "outputs": [
        {
          "output_type": "execute_result",
          "data": {
            "text/plain": [
              "'abcdefghijklmnopqrstuvwxyzABCDEFGHIJKLMNOPQRSTUVWXYZ0123456789!\"#$%&\\'()*+,-./:;<=>?@[\\\\]^_`{|}~'"
            ],
            "application/vnd.google.colaboratory.intrinsic+json": {
              "type": "string"
            }
          },
          "metadata": {},
          "execution_count": 2
        }
      ]
    },
    {
      "cell_type": "code",
      "source": [
        "for i in range(1,4):\n",
        "  for j in product(value, repeat=i):\n",
        "    word = \"\".join(j)\n",
        "    p = open(\"password.txt\", \"a\")\n",
        "    p.write(word)\n",
        "    p.write(\"\\n\")"
      ],
      "metadata": {
        "id": "AXPrHbsparGV"
      },
      "execution_count": 4,
      "outputs": []
    },
    {
      "cell_type": "code",
      "source": [],
      "metadata": {
        "id": "N5YGkXvZbW5M"
      },
      "execution_count": null,
      "outputs": []
    }
  ]
}